{
  "nbformat": 4,
  "nbformat_minor": 0,
  "metadata": {
    "colab": {
      "name": "Lists.ipynb",
      "provenance": []
    },
    "kernelspec": {
      "name": "python3",
      "display_name": "Python 3"
    },
    "language_info": {
      "name": "python"
    }
  },
  "cells": [
    {
      "cell_type": "markdown",
      "metadata": {
        "id": "JxDzOcdpnhDO"
      },
      "source": [
        "**Lists**"
      ]
    },
    {
      "cell_type": "code",
      "metadata": {
        "colab": {
          "base_uri": "https://localhost:8080/"
        },
        "id": "IsAjURYZniwB",
        "outputId": "38fd5584-64de-4e74-8955-e09921b6399d"
      },
      "source": [
        "lst = [2, 4, 6]\n",
        "\n",
        "print(lst)"
      ],
      "execution_count": 2,
      "outputs": [
        {
          "output_type": "stream",
          "name": "stdout",
          "text": [
            "[2, 4, 6]\n"
          ]
        }
      ]
    },
    {
      "cell_type": "markdown",
      "metadata": {
        "id": "ndtdVmDXnxsK"
      },
      "source": [
        "**Accessing** **Items**"
      ]
    },
    {
      "cell_type": "code",
      "metadata": {
        "colab": {
          "base_uri": "https://localhost:8080/"
        },
        "id": "I6LQHnIrn0By",
        "outputId": "81cc3e11-9181-4e6c-8243-0ae26e2fce0b"
      },
      "source": [
        "\n",
        "lst = [\"Apple\",\"Mango\",\"Orange\",\"Grapes\"]\n",
        "\n",
        "for item in lst:\n",
        "    print(item)"
      ],
      "execution_count": 3,
      "outputs": [
        {
          "output_type": "stream",
          "name": "stdout",
          "text": [
            "Apple\n",
            "Mango\n",
            "Orange\n",
            "Grapes\n"
          ]
        }
      ]
    },
    {
      "cell_type": "markdown",
      "metadata": {
        "id": "XcpY5AhIoBmk"
      },
      "source": [
        "**Slicing**"
      ]
    },
    {
      "cell_type": "code",
      "metadata": {
        "colab": {
          "base_uri": "https://localhost:8080/"
        },
        "id": "Vj-D3qTAoEjk",
        "outputId": "2bf6b1eb-588b-4690-d257-3bde6397c14e"
      },
      "source": [
        "lst = [1, 2, 3, 4, 5, 6, 7, 8, 9]\n",
        "\n",
        "lst[2:8]"
      ],
      "execution_count": 4,
      "outputs": [
        {
          "output_type": "execute_result",
          "data": {
            "text/plain": [
              "[3, 4, 5, 6, 7, 8]"
            ]
          },
          "metadata": {},
          "execution_count": 4
        }
      ]
    },
    {
      "cell_type": "markdown",
      "metadata": {
        "id": "fXAEt6QYoJ6j"
      },
      "source": [
        "**Adding** **to** **Lists**"
      ]
    },
    {
      "cell_type": "code",
      "metadata": {
        "colab": {
          "base_uri": "https://localhost:8080/"
        },
        "id": "up3JmPy1oPkQ",
        "outputId": "3036954d-89ed-456a-c465-960182efbe20"
      },
      "source": [
        "list1 = [\"Apple\",\"Mango\",\"Orange\",\"Grapes\"] \n",
        "list2 = [\"Banana\",\"Guava\"] \n",
        "\n",
        "list1 + list2"
      ],
      "execution_count": 5,
      "outputs": [
        {
          "output_type": "execute_result",
          "data": {
            "text/plain": [
              "['Apple', 'Mango', 'Orange', 'Grapes', 'Banana', 'Guava']"
            ]
          },
          "metadata": {},
          "execution_count": 5
        }
      ]
    },
    {
      "cell_type": "markdown",
      "metadata": {
        "id": "KcWzVjeCodIq"
      },
      "source": [
        "**append**() **method**"
      ]
    },
    {
      "cell_type": "code",
      "metadata": {
        "colab": {
          "base_uri": "https://localhost:8080/"
        },
        "id": "oXIosv1Zokt2",
        "outputId": "f80b3f21-e6c1-47d9-8bca-11546afeb704"
      },
      "source": [
        "\n",
        "lst = [1, 2, 3, 4]\n",
        "\n",
        "lst.append(5)\n",
        "\n",
        "lst"
      ],
      "execution_count": 6,
      "outputs": [
        {
          "output_type": "execute_result",
          "data": {
            "text/plain": [
              "[1, 2, 3, 4, 5]"
            ]
          },
          "metadata": {},
          "execution_count": 6
        }
      ]
    },
    {
      "cell_type": "markdown",
      "metadata": {
        "id": "WPf2_IJHopmt"
      },
      "source": [
        "\n",
        "**extend**() **method**"
      ]
    },
    {
      "cell_type": "code",
      "metadata": {
        "id": "5-CtcgLNotmU"
      },
      "source": [
        "\n",
        "list1 = [\"Koenigsegg\", \"Tesla\", \"Lamborghini\", \"Buggati\"]\n",
        "list2 = [\"Audi\", \"Mercedes\", \"BMW\"] \n",
        "\n",
        "list1.extend(list2)\n",
        "\n",
        "list1"
      ],
      "execution_count": null,
      "outputs": []
    },
    {
      "cell_type": "markdown",
      "metadata": {
        "id": "102RyhuEo9Dx"
      },
      "source": [
        "**Deleting** **from** **a** **List**"
      ]
    },
    {
      "cell_type": "markdown",
      "metadata": {
        "id": "6ToJV_LipGLB"
      },
      "source": [
        "**del** **keyword**"
      ]
    },
    {
      "cell_type": "code",
      "metadata": {
        "colab": {
          "base_uri": "https://localhost:8080/"
        },
        "id": "_QSfW-IxpIaL",
        "outputId": "4808ff67-3707-4d46-f5dc-3cbb6997836f"
      },
      "source": [
        "lst = [\"Apple\",\"Mango\",\"Banana\"]\n",
        "\n",
        "del lst[2]\n",
        "\n",
        "lst"
      ],
      "execution_count": 8,
      "outputs": [
        {
          "output_type": "execute_result",
          "data": {
            "text/plain": [
              "['Apple', 'Mango']"
            ]
          },
          "metadata": {},
          "execution_count": 8
        }
      ]
    },
    {
      "cell_type": "markdown",
      "metadata": {
        "id": "zc9CzuT6pV7x"
      },
      "source": [
        "**remove**() **method**"
      ]
    },
    {
      "cell_type": "code",
      "metadata": {
        "colab": {
          "base_uri": "https://localhost:8080/"
        },
        "id": "rle2Jq3rpYum",
        "outputId": "79223227-5f68-4e00-c91f-1b04d0c35032"
      },
      "source": [
        "lst = [\"Apple\",\"Mango\",\"Banana\"] \n",
        "\n",
        "lst.remove(\"Mango\")\n",
        "\n",
        "lst"
      ],
      "execution_count": 9,
      "outputs": [
        {
          "output_type": "execute_result",
          "data": {
            "text/plain": [
              "['Apple', 'Banana']"
            ]
          },
          "metadata": {},
          "execution_count": 9
        }
      ]
    },
    {
      "cell_type": "markdown",
      "metadata": {
        "id": "VY1jSMjTpqpk"
      },
      "source": [
        "**pop**() **method**"
      ]
    },
    {
      "cell_type": "code",
      "metadata": {
        "colab": {
          "base_uri": "https://localhost:8080/"
        },
        "id": "J8XzqB5UptCs",
        "outputId": "f432f580-8c5c-448b-b97b-12b0350be33b"
      },
      "source": [
        "lst = [\"Apple\",\"Mango\",\"Banana\"]\n",
        "\n",
        "lst.pop()\n",
        "\n",
        "lst"
      ],
      "execution_count": 10,
      "outputs": [
        {
          "output_type": "execute_result",
          "data": {
            "text/plain": [
              "['Apple', 'Mango']"
            ]
          },
          "metadata": {},
          "execution_count": 10
        }
      ]
    },
    {
      "cell_type": "markdown",
      "metadata": {
        "id": "efVMVZfsp4SS"
      },
      "source": [
        "**Methods**"
      ]
    },
    {
      "cell_type": "markdown",
      "metadata": {
        "id": "QnMW9y0hp91w"
      },
      "source": [
        "**index**()"
      ]
    },
    {
      "cell_type": "code",
      "metadata": {
        "colab": {
          "base_uri": "https://localhost:8080/"
        },
        "id": "T7-2kqLrp_t3",
        "outputId": "43694a72-ac83-4206-ad4f-6b5b0f19bcab"
      },
      "source": [
        "lst = [23, 12, 5, 1, 2, 3, 4, 1, 8, 9]\n",
        "\n",
        "lst.index(1)"
      ],
      "execution_count": 11,
      "outputs": [
        {
          "output_type": "execute_result",
          "data": {
            "text/plain": [
              "3"
            ]
          },
          "metadata": {},
          "execution_count": 11
        }
      ]
    },
    {
      "cell_type": "markdown",
      "metadata": {
        "id": "PU00nEOcqG_N"
      },
      "source": [
        "**reverse**()"
      ]
    },
    {
      "cell_type": "code",
      "metadata": {
        "colab": {
          "base_uri": "https://localhost:8080/"
        },
        "id": "QZNwzzsjqKiG",
        "outputId": "a1d6b82b-1ce0-4064-d73f-a76d23dc3dbf"
      },
      "source": [
        "lst = [1, 2, 3, 4, 5, 6, 7]\n",
        "\n",
        "lst.reverse()\n",
        "\n",
        "lst"
      ],
      "execution_count": 12,
      "outputs": [
        {
          "output_type": "execute_result",
          "data": {
            "text/plain": [
              "[7, 6, 5, 4, 3, 2, 1]"
            ]
          },
          "metadata": {},
          "execution_count": 12
        }
      ]
    },
    {
      "cell_type": "markdown",
      "metadata": {
        "id": "A3yETvquqVol"
      },
      "source": [
        "**sort()**"
      ]
    },
    {
      "cell_type": "code",
      "metadata": {
        "colab": {
          "base_uri": "https://localhost:8080/"
        },
        "id": "0u0ZT_VdqXro",
        "outputId": "01ea22b1-566e-4435-d747-b386f3e01dbf"
      },
      "source": [
        "lst = [1, 23, 24, 3, 4, 100, 68, 79]\n",
        "\n",
        "lst.sort()\n",
        "\n",
        "lst"
      ],
      "execution_count": 13,
      "outputs": [
        {
          "output_type": "execute_result",
          "data": {
            "text/plain": [
              "[1, 3, 4, 23, 24, 68, 79, 100]"
            ]
          },
          "metadata": {},
          "execution_count": 13
        }
      ]
    }
  ]
}