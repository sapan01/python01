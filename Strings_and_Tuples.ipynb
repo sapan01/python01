{
  "nbformat": 4,
  "nbformat_minor": 0,
  "metadata": {
    "colab": {
      "name": "Strings_and_Tuples.ipynb",
      "provenance": []
    },
    "kernelspec": {
      "name": "python3",
      "display_name": "Python 3"
    },
    "language_info": {
      "name": "python"
    }
  },
  "cells": [
    {
      "cell_type": "markdown",
      "metadata": {
        "id": "hRPg7Z84qztc"
      },
      "source": [
        "**Strings**"
      ]
    },
    {
      "cell_type": "code",
      "metadata": {
        "colab": {
          "base_uri": "https://localhost:8080/"
        },
        "id": "Shgh-uMUq1aB",
        "outputId": "8e23152e-212d-4b85-d014-e6a22eeac93a"
      },
      "source": [
        "string = 'Hello World!'\n",
        "\n",
        "print(string)"
      ],
      "execution_count": 1,
      "outputs": [
        {
          "output_type": "stream",
          "name": "stdout",
          "text": [
            "Hello World!\n"
          ]
        }
      ]
    },
    {
      "cell_type": "markdown",
      "metadata": {
        "id": "KMHsgY9qq9nK"
      },
      "source": [
        "**Indexing**"
      ]
    },
    {
      "cell_type": "code",
      "metadata": {
        "colab": {
          "base_uri": "https://localhost:8080/",
          "height": 35
        },
        "id": "aWjLNjOPrFrZ",
        "outputId": "af92672b-c281-4fe5-c610-3922e542087d"
      },
      "source": [
        "string = \"Siddhant Sharma\"\n",
        "\n",
        "string[0]"
      ],
      "execution_count": 2,
      "outputs": [
        {
          "output_type": "execute_result",
          "data": {
            "application/vnd.google.colaboratory.intrinsic+json": {
              "type": "string"
            },
            "text/plain": [
              "'S'"
            ]
          },
          "metadata": {},
          "execution_count": 2
        }
      ]
    },
    {
      "cell_type": "markdown",
      "metadata": {
        "id": "_6RsFneZrPQ-"
      },
      "source": [
        "**Substring**"
      ]
    },
    {
      "cell_type": "code",
      "metadata": {
        "colab": {
          "base_uri": "https://localhost:8080/"
        },
        "id": "NpUuF6UArQ9j",
        "outputId": "12eec376-8a14-40fb-fe88-b0e3ffea2de5"
      },
      "source": [
        "str1 = \"siddhant\"\n",
        "str2 = \"Siddhant\"\n",
        "string = \"Siddhant Sharma\"\n",
        "\n",
        "str1 in string"
      ],
      "execution_count": 3,
      "outputs": [
        {
          "output_type": "execute_result",
          "data": {
            "text/plain": [
              "False"
            ]
          },
          "metadata": {},
          "execution_count": 3
        }
      ]
    },
    {
      "cell_type": "markdown",
      "metadata": {
        "id": "XQgNJtPWrduB"
      },
      "source": [
        "**Concatenation**"
      ]
    },
    {
      "cell_type": "code",
      "metadata": {
        "colab": {
          "base_uri": "https://localhost:8080/",
          "height": 35
        },
        "id": "_6DYfe3Zrh-M",
        "outputId": "3a32943d-a1a8-43ae-9d8e-2102fdf45be2"
      },
      "source": [
        "str1 = \"Siddhant\"\n",
        "str2 = \"Sharma\"\n",
        "\n",
        "str1 + str2"
      ],
      "execution_count": 4,
      "outputs": [
        {
          "output_type": "execute_result",
          "data": {
            "application/vnd.google.colaboratory.intrinsic+json": {
              "type": "string"
            },
            "text/plain": [
              "'SiddhantSharma'"
            ]
          },
          "metadata": {},
          "execution_count": 4
        }
      ]
    },
    {
      "cell_type": "markdown",
      "metadata": {
        "id": "YGTwYkfyrtka"
      },
      "source": [
        "**Slicing**"
      ]
    },
    {
      "cell_type": "code",
      "metadata": {
        "colab": {
          "base_uri": "https://localhost:8080/"
        },
        "id": "BS2_TS34ru-i",
        "outputId": "94210c06-3c6b-4852-a318-6b62d120d87a"
      },
      "source": [
        "\n",
        "string = \"Hi! How you doing?\"\n",
        "\n",
        "print(string[3:14])"
      ],
      "execution_count": 5,
      "outputs": [
        {
          "output_type": "stream",
          "name": "stdout",
          "text": [
            " How you do\n"
          ]
        }
      ]
    },
    {
      "cell_type": "markdown",
      "metadata": {
        "id": "MU-sLhIUr9W5"
      },
      "source": [
        "**Tuples**"
      ]
    },
    {
      "cell_type": "code",
      "metadata": {
        "colab": {
          "base_uri": "https://localhost:8080/"
        },
        "id": "gKKa6tzFr_bg",
        "outputId": "bad3e534-6ca0-4f86-cee7-9d558f172570"
      },
      "source": [
        "tup1 = (1, 2, 3)\n",
        "\n",
        "print(tup1)"
      ],
      "execution_count": 6,
      "outputs": [
        {
          "output_type": "stream",
          "name": "stdout",
          "text": [
            "(1, 2, 3)\n"
          ]
        }
      ]
    },
    {
      "cell_type": "markdown",
      "metadata": {
        "id": "M1_1IjGbsJwp"
      },
      "source": [
        "\n",
        "**Indexing**"
      ]
    },
    {
      "cell_type": "code",
      "metadata": {
        "colab": {
          "base_uri": "https://localhost:8080/",
          "height": 35
        },
        "id": "cJB-DM7isLPH",
        "outputId": "d58cdd9f-9dc9-44bf-8a74-7ca6566108ac"
      },
      "source": [
        "tup = (\"Koenigsegg\", \"Tesla\", \"Lamborghini\", \"Buggati\")\n",
        "\n",
        "tup[1]"
      ],
      "execution_count": 7,
      "outputs": [
        {
          "output_type": "execute_result",
          "data": {
            "application/vnd.google.colaboratory.intrinsic+json": {
              "type": "string"
            },
            "text/plain": [
              "'Tesla'"
            ]
          },
          "metadata": {},
          "execution_count": 7
        }
      ]
    }
  ]
}