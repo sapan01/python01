{
  "nbformat": 4,
  "nbformat_minor": 0,
  "metadata": {
    "colab": {
      "name": "ClassObject.ipynb",
      "provenance": []
    },
    "kernelspec": {
      "name": "python3",
      "display_name": "Python 3"
    },
    "language_info": {
      "name": "python"
    }
  },
  "cells": [
    {
      "cell_type": "markdown",
      "metadata": {
        "id": "AkbtbeGyTxoP"
      },
      "source": [
        "**Classes and Objects**"
      ]
    },
    {
      "cell_type": "code",
      "metadata": {
        "colab": {
          "base_uri": "https://localhost:8080/"
        },
        "id": "zUq_yxqsT5sv",
        "outputId": "f2928235-880e-486f-e599-bccd63258eac"
      },
      "source": [
        "class Person:\n",
        "  def __init__(self, name, age):\n",
        "    self.name = name\n",
        "    self.age = age\n",
        "\n",
        "p1 = Person(\"Siddhant\", 19)\n",
        "\n",
        "print(p1.name)\n",
        "print(p1.age)"
      ],
      "execution_count": 1,
      "outputs": [
        {
          "output_type": "stream",
          "name": "stdout",
          "text": [
            "Siddhant\n",
            "19\n"
          ]
        }
      ]
    },
    {
      "cell_type": "code",
      "metadata": {
        "colab": {
          "base_uri": "https://localhost:8080/"
        },
        "id": "JDE-AerJUZ4v",
        "outputId": "0f6d2eea-b392-43c1-f193-1db8614787f8"
      },
      "source": [
        "class Person:\n",
        "  def __init__(self, name, age):\n",
        "    self.name = name\n",
        "    self.age = age\n",
        "\n",
        "  def myfunc(self):\n",
        "    print(\"Hello my name is \" + self.name)\n",
        "\n",
        "p1 = Person(\"Siddhant\", 19)\n",
        "p1.myfunc()"
      ],
      "execution_count": 2,
      "outputs": [
        {
          "output_type": "stream",
          "name": "stdout",
          "text": [
            "Hello my name is John\n"
          ]
        }
      ]
    },
    {
      "cell_type": "code",
      "metadata": {
        "colab": {
          "base_uri": "https://localhost:8080/"
        },
        "id": "VKHWQ-V4UoCF",
        "outputId": "394158fa-c168-495f-cbe0-6f352b01857d"
      },
      "source": [
        "\n",
        "\n",
        "class Dog:\n",
        "\tattr1 = \"mammal\"\n",
        "\tattr2 = \"dog\"\n",
        "\n",
        "\tdef fun(self):\n",
        "\t\tprint(\"I'm a\", self.attr1)\n",
        "\t\tprint(\"I'm a\", self.attr2)\n",
        "  \n",
        "obj1 = Dog()\n",
        "\n",
        "\n",
        "print(obj1.attr1)\n",
        "obj1.fun()\n"
      ],
      "execution_count": 4,
      "outputs": [
        {
          "output_type": "stream",
          "name": "stdout",
          "text": [
            "mammal\n",
            "I'm a mammal\n",
            "I'm a dog\n"
          ]
        }
      ]
    },
    {
      "cell_type": "code",
      "metadata": {
        "colab": {
          "base_uri": "https://localhost:8080/"
        },
        "id": "ofLAdan-U8_P",
        "outputId": "8dff0f0f-001b-438a-8306-067dc0a5b823"
      },
      "source": [
        "\n",
        "class Dog:\n",
        "\t\n",
        "\n",
        "\tanimal = 'dog'\t\n",
        "\t\n",
        "\n",
        "\tdef __init__(self, breed):\n",
        "\n",
        "\t\tself.breed = breed\t\t\t\n",
        "\n",
        "\n",
        "\tdef setColor(self, color):\n",
        "\t\tself.color = color\n",
        "\t\n",
        "\tdef getColor(self):\t\n",
        "\t\treturn self.color\n",
        "\n",
        "\n",
        "Rodger = Dog(\"pug\")\n",
        "Rodger.setColor(\"brown\")\n",
        "print(Rodger.getColor())\n"
      ],
      "execution_count": 5,
      "outputs": [
        {
          "output_type": "stream",
          "name": "stdout",
          "text": [
            "brown\n"
          ]
        }
      ]
    }
  ]
}